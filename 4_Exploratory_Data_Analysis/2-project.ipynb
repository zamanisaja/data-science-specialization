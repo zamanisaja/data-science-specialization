{
 "cells": [
  {
   "cell_type": "code",
   "execution_count": null,
   "metadata": {
    "vscode": {
     "languageId": "r"
    }
   },
   "outputs": [],
   "source": [
    "library(tidyverse)"
   ]
  },
  {
   "cell_type": "code",
   "execution_count": 2,
   "metadata": {
    "vscode": {
     "languageId": "r"
    }
   },
   "outputs": [
    {
     "name": "stderr",
     "output_type": "stream",
     "text": [
      "Warning message in download.file(url, destfile = zip_file):\n",
      "\"URL 'https://d396qusza40orc.cloudfrontnet/exdata%2Fdata%2FNEI_data.zip': lo status era 'Couldn't resolve host name'\"\n"
     ]
    },
    {
     "ename": "ERROR",
     "evalue": "Error in download.file(url, destfile = zip_file): non `e possibile aprire URL 'https://d396qusza40orc.cloudfrontnet/exdata%2Fdata%2FNEI_data.zip'\n",
     "output_type": "error",
     "traceback": [
      "Error in download.file(url, destfile = zip_file): non `e possibile aprire URL 'https://d396qusza40orc.cloudfrontnet/exdata%2Fdata%2FNEI_data.zip'\nTraceback:\n",
      "1. download.file(url, destfile = zip_file)   # at line 4 of file <text>"
     ]
    }
   ],
   "source": [
    "zip_file = \"../input/EPA_DATA.zip\"\n",
    "if (!file.exists(zip_file)) {\n",
    "    url <- \"https://d396qusza40orc.cloudfrontnet/exdata%2Fdata%2FNEI_data.zip\"\n",
    "    download.file(url, destfile = zip_file)\n",
    "    unzip(zip_file, exdir = \"../input\")\n",
    "}"
   ]
  },
  {
   "cell_type": "code",
   "execution_count": null,
   "metadata": {
    "vscode": {
     "languageId": "r"
    }
   },
   "outputs": [],
   "source": [
    "NEI <- readRDS(\"../input/summarySCC_PM25.rds\")\n",
    "SCC <- readRDS(\"../input/Source_Classification_Code.rds\")\n",
    "\n",
    "NEI$type <- as.factor(NEI$type)\n",
    "NEI$year <- as.factor(NEI$year)"
   ]
  },
  {
   "cell_type": "code",
   "execution_count": null,
   "metadata": {
    "vscode": {
     "languageId": "r"
    }
   },
   "outputs": [],
   "source": [
    "# 1st assignment from: Instructions.md#Assignment\n",
    "# 1.Have total emissions from PM2.5 decreased in the United States from 1999 to 2008?\n",
    "# Using the base plotting system, make a plot showing the total PM2.5 emission from all sources\n",
    "# for each of the years 1999, 2002, 2005, and 2008.\n",
    "\n",
    "if (!\"NEI\" %in% ls()) {\n",
    "    source(\"readData.R\")\n",
    "}\n",
    "\n",
    "pm <- NEI %>%\n",
    "    group_by(year) %>%\n",
    "    summarise(TotalEmissions = sum(Emissions))\n",
    "\n",
    "# saveing plot into an image file\n",
    "png(\"plot1.png\")\n",
    "plot(\n",
    "    x = as.numeric(levels(pm$year)[pm$year]),\n",
    "    y = pm$TotalEmissions,\n",
    "    pch = 16, col = \"black\", cex = 2,\n",
    "    xlab = \"Year\", ylab = \"Total Emissions\",\n",
    "    main = \"Total Emissions from PM2.5\",\n",
    ")\n",
    "\n",
    "dev.off()"
   ]
  },
  {
   "cell_type": "code",
   "execution_count": null,
   "metadata": {
    "vscode": {
     "languageId": "r"
    }
   },
   "outputs": [],
   "source": [
    "# 2nd assignment from: Instructions.md#Assignment\n",
    "# Have total emissions from PM2.5 decreased in the Baltimore City,\n",
    "# Maryland (fips == \"24510\") from 1999 to 2008?\n",
    "# Use the base plotting system to make a plot answering this question.\n",
    "\n",
    "if (!\"NEI\" %in% ls()) {\n",
    "    source(\"readData.R\")\n",
    "}\n",
    "\n",
    "pm <- NEI %>%\n",
    "    subset(fips == \"24510\") %>% # fips=24510 for Baltimore City\n",
    "    group_by(year) %>%\n",
    "    summarise(TotalEmissions = sum(Emissions))\n",
    "\n",
    "png(\"plot2.png\")\n",
    "plot(\n",
    "    x = as.numeric(levels(pm$year)[pm$year]),\n",
    "    y = pm$TotalEmissions,\n",
    "    pch = 16, col = \"black\", cex = 2,\n",
    "    xlab = \"Year\", ylab = \"Total Emissions\",\n",
    "    main = \"Total Emissions from PM2.5 in Baltimore City, Maryland\",\n",
    ")\n",
    "dev.off()"
   ]
  },
  {
   "cell_type": "code",
   "execution_count": null,
   "metadata": {
    "vscode": {
     "languageId": "r"
    }
   },
   "outputs": [],
   "source": [
    "# 3rd assignment from: Instructions.md#Assignment\n",
    "# Of the four types of sources indicated by the type\n",
    "# (point, nonpoint, onroad, nonroad)variable,\n",
    "# which of these four sources have seen decreases in emissions from 1999–2008 for Baltimore City?\n",
    "# Which have seen increases in emissions from 1999–2008?\n",
    "# Use the ggplot2 plotting system to make a plot answer this question.\n",
    "\n",
    "if (!\"NEI\" %in% ls()) {\n",
    "    source(\"readData.R\")\n",
    "}\n",
    "\n",
    "pm <- NEI %>%\n",
    "    subset(fips == \"24510\") %>% # fips=24510 for Baltimore City\n",
    "    group_by(year, type) %>%\n",
    "    summarise(TotalEmissions = sum(Emissions))\n",
    "\n",
    "ggplot(pm) +\n",
    "    geom_line(aes(x = year, y = TotalEmissions, color = type, group = type)) +\n",
    "    geom_point(aes(x = year, y = TotalEmissions, color = type)) +\n",
    "    labs(x = \"Year\", y = \"Total Emissions\", title = \"Baltimore City, Maryland\")\n",
    "ggsave(\"plot3.png\")"
   ]
  },
  {
   "cell_type": "code",
   "execution_count": null,
   "metadata": {
    "vscode": {
     "languageId": "r"
    }
   },
   "outputs": [],
   "source": [
    "# 4th assignment from: Instructions.md#Assignment\n",
    "# Across the United States, how have emissions from coal combustion-related\n",
    "# sources changed from 1999–2008?\n",
    "\n",
    "if (!\"NEI\" %in% ls()) {\n",
    "    source(\"readData.R\")\n",
    "}\n",
    "\n",
    "# I'm assumming any coal combustion related source has \"Coal\" in its EI.Sector\n",
    "coalComb <- dplyr::filter(SCC, grepl(\"Coal\", EI.Sector))\n",
    "\n",
    "pm <- NEI %>%\n",
    "    filter(SCC %in% coalComb$SCC) %>%\n",
    "    group_by(year) %>%\n",
    "    summarise(TotalEmissions = sum(Emissions))\n",
    "\n",
    "ggplot(pm) +\n",
    "    geom_line(aes(x = year, y = TotalEmissions, group = 1)) +\n",
    "    geom_point(aes(x = year, y = TotalEmissions), size = 2.5) +\n",
    "    labs(x = \"Year\", y = \"Total Emissions\", title = \"Total Emissions from Coal Combustion-Related Sources\")\n",
    "ggsave(\"plot4.png\")"
   ]
  },
  {
   "cell_type": "code",
   "execution_count": null,
   "metadata": {
    "vscode": {
     "languageId": "r"
    }
   },
   "outputs": [],
   "source": [
    "# 5th assignment from: Instructions.md#Assignment\n",
    "# How have emissions from motor vehicle sources changed from 1999–2008 in Baltimore City?\n",
    "\n",
    "if (!\"NEI\" %in% ls()) {\n",
    "    source(\"readData.R\")\n",
    "}\n",
    "\n",
    "# I'm assumming all motor vehicle sources have \"Motor Vehicle\" in their Short.Name\n",
    "motorVehicle <- dplyr::filter(SCC, grepl(\"Vehicle\", Short.Name))\n",
    "\n",
    "pm <- NEI %>%\n",
    "    filter(SCC %in% motorVehicle$SCC) %>%\n",
    "    group_by(year) %>%\n",
    "    summarise(TotalEmissions = sum(Emissions))\n",
    "\n",
    "ggplot(pm) +\n",
    "    geom_line(aes(x = year, y = TotalEmissions, group = 1)) +\n",
    "    geom_point(aes(x = year, y = TotalEmissions), size = 2.5) +\n",
    "    labs(x = \"Year\", y = \"Total Emissions\", title = \"Motor Vehicles Emission\")\n",
    "ggsave(\"plot5.png\")"
   ]
  },
  {
   "cell_type": "code",
   "execution_count": null,
   "metadata": {
    "vscode": {
     "languageId": "r"
    }
   },
   "outputs": [],
   "source": [
    "# 6th assignment from: Instructions.md#Assignment\n",
    "# Compare emissions from motor vehicle sources in Baltimore City\n",
    "# with emissions from motor vehicle sources in Los Angeles County,\n",
    "# California fips == \"06037\".\n",
    "# Which city has seen greater changes over time in motor vehicle emissions?\n",
    "if (!\"NEI\" %in% ls()) {\n",
    "    source(\"readData.R\")\n",
    "}\n",
    "\n",
    "motorVehicle <- dplyr::filter(SCC, grepl(\"Vehicle\", Short.Name))\n",
    "\n",
    "pmLA <- NEI %>%\n",
    "    filter(SCC %in% motorVehicle$SCC) %>%\n",
    "    subset(fips == \"06037\") %>%\n",
    "    group_by(year) %>%\n",
    "    summarise(TotalEmissions = sum(Emissions))\n",
    "\n",
    "pmBA <- NEI %>%\n",
    "    filter(SCC %in% motorVehicle$SCC) %>%\n",
    "    subset(fips == \"24510\") %>%\n",
    "    group_by(year) %>%\n",
    "    summarise(TotalEmissions = sum(Emissions))\n",
    "\n",
    "pmBA$city <- rep(\"Baltimore\", 4)\n",
    "pmLA$city <- rep(\"Los Angeles\", 4)\n",
    "pm <- rbind(pmBA, pmLA)\n",
    "pm$city <- as.factor(pm$city)\n",
    "\n",
    "ggplot(data = pm) +\n",
    "    geom_point(aes(x = year, y = TotalEmissions, group = city), size = 2.5) +\n",
    "    geom_line(aes(x = year, y = TotalEmissions, group = city, color = city)) +\n",
    "    labs(x = \"Year\", y = \"Total Emissions\", title = \"Baltimore vs. Los Angeles\")\n",
    "ggsave(\"plot6.png\")"
   ]
  }
 ],
 "metadata": {
  "kernelspec": {
   "display_name": "R",
   "language": "R",
   "name": "ir"
  },
  "language_info": {
   "codemirror_mode": "r",
   "file_extension": ".r",
   "mimetype": "text/x-r-source",
   "name": "R",
   "pygments_lexer": "r",
   "version": "4.1.2"
  },
  "orig_nbformat": 4,
  "vscode": {
   "interpreter": {
    "hash": "941015a396ef9425c61581b5525e74a5b2f4dcd064b2b80f1815c4311d04495a"
   }
  }
 },
 "nbformat": 4,
 "nbformat_minor": 2
}
