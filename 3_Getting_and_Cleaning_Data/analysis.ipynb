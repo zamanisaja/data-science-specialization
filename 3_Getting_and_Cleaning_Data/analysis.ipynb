{
 "cells": [
  {
   "cell_type": "code",
   "execution_count": 7,
   "metadata": {
    "vscode": {
     "languageId": "r"
    }
   },
   "outputs": [],
   "source": [
    "options(warn = 0)\n",
    "library(dplyr)"
   ]
  },
  {
   "cell_type": "code",
   "execution_count": 2,
   "metadata": {
    "vscode": {
     "languageId": "r"
    }
   },
   "outputs": [],
   "source": [
    "input_file = \"../input/UCI HAR Dataset\"\n",
    "\n",
    "# Checking if archieve already exists.\n",
    "if (!file.exists(input_file)) {\n",
    "  fileURL <- \"https://d396qusza40orc.cloudfront.net/getdata%2Fprojectfiles%2FUCI%20HAR%20Dataset.zip\"\n",
    "  zip_file = \"../input/Coursera_DS3_Final.zip\"\n",
    "  download.file(fileURL, destfile = zip_file, method = \"curl\")\n",
    "  unzip(zip_file, exdir = \"../input/\")\n",
    "}"
   ]
  },
  {
   "cell_type": "code",
   "execution_count": 10,
   "metadata": {
    "vscode": {
     "languageId": "r"
    }
   },
   "outputs": [],
   "source": [
    "features <- read.table(paste(input_file, \"features.txt\", sep = \"/\"), col.names = c(\"n\", \"functions\"))\n",
    "activities <- read.table(paste(input_file, \"activity_labels.txt\", sep=\"/\"), col.names = c(\"code\", \"activity\"))\n",
    "\n",
    "x_test <- read.table(paste(input_file, \"test\", \"X_test.txt\", sep=\"/\"), col.names = features$functions)\n",
    "x_train <- read.table(paste(input_file, \"train\", \"X_train.txt\", sep=\"/\"), col.names = features$functions)\n",
    "\n",
    "y_test <- read.table(paste(input_file, 'test', \"y_test.txt\", sep=\"/\"), col.names = \"code\")\n",
    "y_train <- read.table(paste(input_file, 'train', \"y_train.txt\", sep=\"/\"), col.names = \"code\")\n",
    "\n",
    "subject_test <- read.table(paste(input_file,'test', 'subject_test.txt', sep='/'), col.names = \"subject\")\n",
    "subject_train <- read.table(paste(input_file,'train', 'subject_train.txt', sep='/'), col.names = \"subject\")"
   ]
  },
  {
   "cell_type": "code",
   "execution_count": 11,
   "metadata": {
    "vscode": {
     "languageId": "r"
    }
   },
   "outputs": [],
   "source": [
    "X <- rbind(x_train, x_test)\n",
    "Y <- rbind(y_train, y_test)\n",
    "Subject <- rbind(subject_train, subject_test)\n",
    "Merged_Data <- cbind(Subject, Y, X)\n",
    "\n",
    "TidyData <- Merged_Data %>% select(subject, code, contains(\"mean\"), contains(\"std\"))\n",
    "TidyData$code <- activities[TidyData$code, 2]\n",
    "\n",
    "names(TidyData)[2] <- \"activity\"\n",
    "names(TidyData) <- gsub(\"Acc\", \"Accelerometer\", names(TidyData))\n",
    "names(TidyData) <- gsub(\"Gyro\", \"Gyroscope\", names(TidyData))\n",
    "names(TidyData) <- gsub(\"BodyBody\", \"Body\", names(TidyData))\n",
    "names(TidyData) <- gsub(\"Mag\", \"Magnitude\", names(TidyData))\n",
    "names(TidyData) <- gsub(\"^t\", \"Time\", names(TidyData))\n",
    "names(TidyData) <- gsub(\"^f\", \"Frequency\", names(TidyData))\n",
    "names(TidyData) <- gsub(\"tBody\", \"TimeBody\", names(TidyData))\n",
    "names(TidyData) <- gsub(\"-mean()\", \"Mean\", names(TidyData), ignore.case = TRUE)\n",
    "names(TidyData) <- gsub(\"-std()\", \"STD\", names(TidyData), ignore.case = TRUE)\n",
    "names(TidyData) <- gsub(\"-freq()\", \"Frequency\", names(TidyData), ignore.case = TRUE)\n",
    "names(TidyData) <- gsub(\"angle\", \"Angle\", names(TidyData))\n",
    "names(TidyData) <- gsub(\"gravity\", \"Gravity\", names(TidyData))\n"
   ]
  },
  {
   "cell_type": "code",
   "execution_count": 12,
   "metadata": {
    "vscode": {
     "languageId": "r"
    }
   },
   "outputs": [
    {
     "name": "stderr",
     "output_type": "stream",
     "text": [
      "Warning message:\n",
      "\"`funs()` was deprecated in dplyr 0.8.0.\n",
      "Please use a list of either functions or lambdas: \n",
      "\n",
      "  # Simple named list: \n",
      "  list(mean = mean, median = median)\n",
      "\n",
      "  # Auto named with `tibble::lst()`: \n",
      "  tibble::lst(mean, median)\n",
      "\n",
      "  # Using lambdas\n",
      "  list(~ mean(., trim = .2), ~ median(., na.rm = TRUE))\n",
      "\u001b[90mThis warning is displayed once every 8 hours.\u001b[39m\n",
      "\u001b[90mCall `lifecycle::last_lifecycle_warnings()` to see where this warning was generated.\u001b[39m\"\n"
     ]
    }
   ],
   "source": [
    "FinalData <- TidyData %>%\n",
    "  group_by(subject, activity) %>%\n",
    "  summarise_all(funs(mean))\n"
   ]
  },
  {
   "cell_type": "code",
   "execution_count": 15,
   "metadata": {
    "vscode": {
     "languageId": "r"
    }
   },
   "outputs": [],
   "source": [
    "write.table(FinalData, \"../output/FinalData.txt\", row.name = FALSE)"
   ]
  }
 ],
 "metadata": {
  "kernelspec": {
   "display_name": "R",
   "language": "R",
   "name": "ir"
  },
  "language_info": {
   "codemirror_mode": "r",
   "file_extension": ".r",
   "mimetype": "text/x-r-source",
   "name": "R",
   "pygments_lexer": "r",
   "version": "4.1.2"
  },
  "orig_nbformat": 4
 },
 "nbformat": 4,
 "nbformat_minor": 2
}
